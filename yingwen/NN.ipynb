{
 "cells": [
  {
   "cell_type": "code",
   "execution_count": null,
   "id": "b5eed5f1-8138-453d-8e6a-5d55ccd5559a",
   "metadata": {},
   "outputs": [],
   "source": [
    "import numpy as np\n",
    "import pandas as pd\n",
    "from sklearn.preprocessing import StandardScaler, LabelEncoder\n",
    "from sklearn.model_selection import train_test_split\n",
    "from sklearn.neural_network import MLPClassifier\n",
    "from sklearn.metrics import accuracy_score, confusion_matrix, classification_report\n",
    "from tabulate import tabulate\n",
    "\n",
    "# Read data from excel \n",
    "data = pd.read_excel('../preprocessing/Dry_Bean_Dataset.xlsx')\n",
    "\n",
    "X = data.drop(columns = ['Class'])\n",
    "y = data['Class']\n",
    "\n",
    "# label_encoding\n",
    "label_encoder = LabelEncoder()\n",
    "y_encoded = label_encoder.fit_transform(y)\n"
   ]
  },
  {
   "cell_type": "code",
   "execution_count": 6,
   "id": "7fa3b52b-6fe7-47ab-bd6a-6035fdb1404d",
   "metadata": {},
   "outputs": [
    {
     "name": "stderr",
     "output_type": "stream",
     "text": [
      "c:\\Users\\14198\\anaconda3\\envs\\Yingwen\\lib\\site-packages\\sklearn\\neural_network\\_multilayer_perceptron.py:546: ConvergenceWarning: lbfgs failed to converge (status=1):\n",
      "STOP: TOTAL NO. of ITERATIONS REACHED LIMIT.\n",
      "\n",
      "Increase the number of iterations (max_iter) or scale the data as shown in:\n",
      "    https://scikit-learn.org/stable/modules/preprocessing.html\n",
      "  self.n_iter_ = _check_optimize_result(\"lbfgs\", opt_res, self.max_iter)\n"
     ]
    }
   ],
   "source": [
    "# split the training data and testing data, then do standarization\n",
    "X_train, X_test, y_train, y_test = train_test_split(X, y_encoded, test_size=0.3, random_state=42, shuffle=True)\n",
    "scaler = StandardScaler().fit(X_train)\n",
    "X_train_scaled = scaler.transform(X_train)\n",
    "X_test_scaled = scaler.transform(X_test)\n",
    "\n",
    "# construct the multi-layer perceptron model\n",
    "# alpha: regularization parameter, solver: optimization algorithm, tol: stop condition\n",
    "mlp_clf = MLPClassifier(hidden_layer_sizes=(100, 50), max_iter=100, alpha = 1e-4,\n",
    "                        solver='lbfgs', tol=1e-6, random_state=42)\n",
    "\n",
    "mlp_clf.fit(X_train_scaled, y_train)\n",
    "\n",
    "y_train_pred = mlp_clf.predict(X_train_scaled)\n",
    "y_test_pred = mlp_clf.predict(X_test_scaled)"
   ]
  },
  {
   "cell_type": "code",
   "execution_count": 8,
   "id": "29788370-7091-4bba-af99-c631ff5fc3fb",
   "metadata": {},
   "outputs": [
    {
     "name": "stdout",
     "output_type": "stream",
     "text": [
      "Training accuracy: 0.9407\n",
      "Testing accuracy: 0.9324\n",
      "MLP Evaluation Metrics:\n",
      "Confusion Matrix:\n",
      "+-----+-----+------+------+------+------+------+\n",
      "|   0 |   1 |    2 |    3 |    4 |    5 |    6 |\n",
      "+=====+=====+======+======+======+======+======+\n",
      "| 875 |   0 |   28 |    0 |    5 |    5 |   14 |\n",
      "+-----+-----+------+------+------+------+------+\n",
      "|   0 | 361 |    0 |    0 |    0 |    0 |    0 |\n",
      "+-----+-----+------+------+------+------+------+\n",
      "|  17 |   0 | 1112 |    0 |   12 |    1 |    9 |\n",
      "+-----+-----+------+------+------+------+------+\n",
      "|   0 |   0 |    0 | 2351 |    2 |   25 |  125 |\n",
      "+-----+-----+------+------+------+------+------+\n",
      "|   2 |   0 |   18 |   13 | 1283 |    0 |   24 |\n",
      "+-----+-----+------+------+------+------+------+\n",
      "|   3 |   0 |    0 |   25 |    0 | 1354 |   26 |\n",
      "+-----+-----+------+------+------+------+------+\n",
      "|   6 |   0 |    2 |  161 |   21 |   21 | 1626 |\n",
      "+-----+-----+------+------+------+------+------+\n",
      "\n",
      "Classification Report:\n",
      "              precision    recall  f1-score   support\n",
      "\n",
      "           0       0.97      0.94      0.96       927\n",
      "           1       1.00      1.00      1.00       361\n",
      "           2       0.96      0.97      0.96      1151\n",
      "           3       0.92      0.94      0.93      2503\n",
      "           4       0.97      0.96      0.96      1340\n",
      "           5       0.96      0.96      0.96      1408\n",
      "           6       0.89      0.89      0.89      1837\n",
      "\n",
      "    accuracy                           0.94      9527\n",
      "   macro avg       0.95      0.95      0.95      9527\n",
      "weighted avg       0.94      0.94      0.94      9527\n",
      "\n",
      "MLP Evaluation Metrics:\n",
      "Confusion Matrix:\n",
      "+-----+-----+-----+-----+-----+-----+-----+\n",
      "|   0 |   1 |   2 |   3 |   4 |   5 |   6 |\n",
      "+=====+=====+=====+=====+=====+=====+=====+\n",
      "| 364 |   0 |  19 |   0 |   1 |   2 |   9 |\n",
      "+-----+-----+-----+-----+-----+-----+-----+\n",
      "|   0 | 161 |   0 |   0 |   0 |   0 |   0 |\n",
      "+-----+-----+-----+-----+-----+-----+-----+\n",
      "|  15 |   0 | 453 |   0 |   6 |   2 |   3 |\n",
      "+-----+-----+-----+-----+-----+-----+-----+\n",
      "|   0 |   0 |   0 | 963 |   0 |  11 |  69 |\n",
      "+-----+-----+-----+-----+-----+-----+-----+\n",
      "|   2 |   0 |   7 |   7 | 560 |   0 |  12 |\n",
      "+-----+-----+-----+-----+-----+-----+-----+\n",
      "|   6 |   0 |   0 |   9 |   0 | 590 |  14 |\n",
      "+-----+-----+-----+-----+-----+-----+-----+\n",
      "|   1 |   0 |   0 |  66 |   7 |   8 | 717 |\n",
      "+-----+-----+-----+-----+-----+-----+-----+\n",
      "\n",
      "Classification Report:\n",
      "              precision    recall  f1-score   support\n",
      "\n",
      "           0       0.94      0.92      0.93       395\n",
      "           1       1.00      1.00      1.00       161\n",
      "           2       0.95      0.95      0.95       479\n",
      "           3       0.92      0.92      0.92      1043\n",
      "           4       0.98      0.95      0.96       588\n",
      "           5       0.96      0.95      0.96       619\n",
      "           6       0.87      0.90      0.88       799\n",
      "\n",
      "    accuracy                           0.93      4084\n",
      "   macro avg       0.94      0.94      0.94      4084\n",
      "weighted avg       0.93      0.93      0.93      4084\n",
      "\n"
     ]
    }
   ],
   "source": [
    "accuracy_train = accuracy_score(y_train_pred, y_train)\n",
    "accuracy_test = accuracy_score(y_test_pred, y_test)\n",
    "\n",
    "print(f\"Training accuracy: {accuracy_train:.4f}\")\n",
    "print(f\"Testing accuracy: {accuracy_test:.4f}\")\n",
    "\n",
    "\n",
    "model_evaluation_metrics1 = {}\n",
    "\n",
    "conf_matrix_train = confusion_matrix(y_train, y_train_pred)\n",
    "classif_report_train = classification_report(y_train, y_train_pred)\n",
    "\n",
    "model_evaluation_metrics1 = {\n",
    "    'Confusion Matrix': conf_matrix_train,\n",
    "    'Classification Report': classif_report_train\n",
    "}\n",
    "\n",
    "print(f\"MLP Evaluation Metrics:\")\n",
    "print(\"Confusion Matrix:\")\n",
    "print(tabulate(conf_matrix_train, headers=mlp_clf.classes_, tablefmt='grid'))\n",
    "print(\"\\nClassification Report:\")\n",
    "print(classif_report_train)\n",
    "\n",
    "model_evaluation_metrics2 = {}\n",
    "\n",
    "conf_matrix_test = confusion_matrix(y_test, y_test_pred)\n",
    "classif_report_test = classification_report(y_test, y_test_pred)\n",
    "\n",
    "model_evaluation_metrics2 = {\n",
    "    'Confusion Matrix': conf_matrix_test,\n",
    "    'Classification Report': classif_report_test\n",
    "}\n",
    "\n",
    "print(f\"MLP Evaluation Metrics:\")\n",
    "print(\"Confusion Matrix:\")\n",
    "print(tabulate(conf_matrix_test, headers=mlp_clf.classes_, tablefmt='grid'))\n",
    "print(\"\\nClassification Report:\")\n",
    "print(classif_report_test)"
   ]
  },
  {
   "cell_type": "code",
   "execution_count": null,
   "id": "160aef89",
   "metadata": {},
   "outputs": [],
   "source": []
  },
  {
   "cell_type": "markdown",
   "id": "24530fe9-cd80-45a4-b86c-75513a646ce8",
   "metadata": {},
   "source": [
    "接下来可以尝试\n",
    "1. 增加1，5，6类（错误率较高）的数据\n",
    "2. 交叉验证调参"
   ]
  },
  {
   "cell_type": "code",
   "execution_count": 9,
   "id": "a0a2722f-e4fa-4b5a-bdbf-9dcc21bf7f24",
   "metadata": {
    "collapsed": true,
    "jupyter": {
     "outputs_hidden": true,
     "source_hidden": true
    }
   },
   "outputs": [
    {
     "name": "stdout",
     "output_type": "stream",
     "text": [
      "Fitting 5 folds for each of 48 candidates, totalling 240 fits\n",
      "Best parameters: {'activation': 'relu', 'alpha': 0.0001, 'hidden_layer_sizes': (50,), 'max_iter': 200, 'solver': 'lbfgs'}\n",
      "Best CV accuracy: 0.9278893286293043\n",
      "Test set accuracy: 0.9297257590597453\n"
     ]
    },
    {
     "name": "stderr",
     "output_type": "stream",
     "text": [
      "c:\\Users\\14198\\anaconda3\\envs\\Yingwen\\lib\\site-packages\\sklearn\\neural_network\\_multilayer_perceptron.py:546: ConvergenceWarning: lbfgs failed to converge (status=1):\n",
      "STOP: TOTAL NO. of ITERATIONS REACHED LIMIT.\n",
      "\n",
      "Increase the number of iterations (max_iter) or scale the data as shown in:\n",
      "    https://scikit-learn.org/stable/modules/preprocessing.html\n",
      "  self.n_iter_ = _check_optimize_result(\"lbfgs\", opt_res, self.max_iter)\n"
     ]
    }
   ],
   "source": [
    "# First try cross-validation \n",
    "from sklearn.model_selection import GridSearchCV, StratifiedKFold\n",
    "\n",
    "mlp_clf2 = MLPClassifier(early_stopping=True, random_state=42)\n",
    "\n",
    "param_grid = {\n",
    "    'hidden_layer_sizes':[(50,), (50, 20), (100,)],\n",
    "    'activation': ['relu', 'tanh'],\n",
    "    'solver': ['adam', 'lbfgs'],\n",
    "    'alpha': [0.0001, 0.001],\n",
    "    'max_iter': [200, 500],\n",
    "}\n",
    "\n",
    "cv = StratifiedKFold(n_splits=5, shuffle=True, random_state=42)\n",
    "grid = GridSearchCV(\n",
    "    estimator=mlp_clf2,\n",
    "    param_grid=param_grid,\n",
    "    cv=cv,\n",
    "    scoring='accuracy',  # 可根据需求改为 'f1_macro' 等\n",
    "    n_jobs=-1,           # 并行计算\n",
    "    verbose=1            # 打印进度\n",
    ")\n",
    "\n",
    "# 在标准化后的训练集上搜索\n",
    "grid.fit(X_train_scaled, y_train)\n",
    "\n",
    "# 输出最佳参数和交叉验证分数\n",
    "print(\"Best parameters:\", grid.best_params_)\n",
    "print(\"Best CV accuracy:\", grid.best_score_)\n",
    "\n",
    "# 在测试集上评估\n",
    "best_mlp = grid.best_estimator_\n",
    "test_score = best_mlp.score(X_test_scaled, y_test)\n",
    "print(\"Test set accuracy:\", test_score)"
   ]
  },
  {
   "cell_type": "code",
   "execution_count": 10,
   "id": "049c0720-1662-4a52-b013-28d94ddc2ad9",
   "metadata": {
    "jupyter": {
     "source_hidden": true
    }
   },
   "outputs": [
    {
     "name": "stdout",
     "output_type": "stream",
     "text": [
      "MLP Evaluation Metrics:\n",
      "Confusion Matrix:\n",
      "+-----+-----+-----+-----+-----+-----+-----+\n",
      "|   0 |   1 |   2 |   3 |   4 |   5 |   6 |\n",
      "+=====+=====+=====+=====+=====+=====+=====+\n",
      "| 364 |   2 |  17 |   0 |   2 |   3 |   7 |\n",
      "+-----+-----+-----+-----+-----+-----+-----+\n",
      "|   0 | 161 |   0 |   0 |   0 |   0 |   0 |\n",
      "+-----+-----+-----+-----+-----+-----+-----+\n",
      "|  16 |   0 | 451 |   0 |   5 |   2 |   5 |\n",
      "+-----+-----+-----+-----+-----+-----+-----+\n",
      "|   0 |   0 |   0 | 972 |   0 |  10 |  61 |\n",
      "+-----+-----+-----+-----+-----+-----+-----+\n",
      "|   2 |   0 |   7 |   7 | 557 |   0 |  15 |\n",
      "+-----+-----+-----+-----+-----+-----+-----+\n",
      "|   5 |   0 |   0 |  12 |   0 | 590 |  12 |\n",
      "+-----+-----+-----+-----+-----+-----+-----+\n",
      "|   3 |   0 |   1 |  73 |   8 |  12 | 702 |\n",
      "+-----+-----+-----+-----+-----+-----+-----+\n",
      "\n",
      "Classification Report:\n",
      "              precision    recall  f1-score   support\n",
      "\n",
      "           0       0.93      0.92      0.93       395\n",
      "           1       0.99      1.00      0.99       161\n",
      "           2       0.95      0.94      0.94       479\n",
      "           3       0.91      0.93      0.92      1043\n",
      "           4       0.97      0.95      0.96       588\n",
      "           5       0.96      0.95      0.95       619\n",
      "           6       0.88      0.88      0.88       799\n",
      "\n",
      "    accuracy                           0.93      4084\n",
      "   macro avg       0.94      0.94      0.94      4084\n",
      "weighted avg       0.93      0.93      0.93      4084\n",
      "\n"
     ]
    }
   ],
   "source": [
    "y_test_pred = best_mlp.predict(X_test_scaled)\n",
    "\n",
    "model_evaluation_metrics3 = {}\n",
    "\n",
    "conf_matrix_test = confusion_matrix(y_test, y_test_pred)\n",
    "classif_report_test = classification_report(y_test, y_test_pred)\n",
    "\n",
    "model_evaluation_metrics3 = {\n",
    "    'Confusion Matrix': conf_matrix_test,\n",
    "    'Classification Report': classif_report_test\n",
    "}\n",
    "\n",
    "print(f\"MLP Evaluation Metrics:\")\n",
    "print(\"Confusion Matrix:\")\n",
    "print(tabulate(conf_matrix_test, headers=mlp_clf.classes_, tablefmt='grid'))\n",
    "print(\"\\nClassification Report:\")\n",
    "print(classif_report_test)"
   ]
  },
  {
   "cell_type": "code",
   "execution_count": null,
   "id": "3626e186-1352-4813-9c25-2b7c12c66951",
   "metadata": {},
   "outputs": [],
   "source": []
  }
 ],
 "metadata": {
  "kernelspec": {
   "display_name": "Yingwen",
   "language": "python",
   "name": "python3"
  },
  "language_info": {
   "codemirror_mode": {
    "name": "ipython",
    "version": 3
   },
   "file_extension": ".py",
   "mimetype": "text/x-python",
   "name": "python",
   "nbconvert_exporter": "python",
   "pygments_lexer": "ipython3",
   "version": "3.8.20"
  }
 },
 "nbformat": 4,
 "nbformat_minor": 5
}
