{
 "cells": [
  {
   "cell_type": "code",
   "execution_count": null,
   "id": "90d77748",
   "metadata": {},
   "outputs": [],
   "source": [
    "import numpy as np\n",
    "import matplotlib.pyplot as plt\n",
    "from sklearn.manifold import TSNE\n",
    "from mpl_toolkits.mplot3d import Axes3D\n",
    "\n",
    "X_train = data = np.load('../pro_data/X_train_cluster.npy')\n",
    "y_train = label = np.load('../pro_data/y_encoded_train_cluster.npy')\n",
    "\n",
    "\n",
    "sample_size = 15000 #10888 in total\n",
    "if len(X_train) > sample_size:\n",
    "    indices = np.random.choice(len(X_train), sample_size, replace=False)\n",
    "    X_sample = X_train[indices]\n",
    "    y_sample = y_train[indices]\n",
    "else:\n",
    "    X_sample = X_train\n",
    "    y_sample = y_train\n",
    "\n"
   ]
  },
  {
   "cell_type": "code",
   "execution_count": 3,
   "id": "64a533be",
   "metadata": {},
   "outputs": [
    {
     "name": "stdout",
     "output_type": "stream",
     "text": [
      "应用 K-Means 聚类...\n"
     ]
    }
   ],
   "source": [
    "from sklearn.cluster import KMeans\n",
    "\n",
    "def apply_kmeans(X, n_clusters=7, random_state=42):\n",
    "    print(\"应用 K-Means 聚类...\")\n",
    "    kmeans = KMeans(n_clusters=n_clusters, random_state=random_state, n_init='auto')\n",
    "    cluster_labels = kmeans.fit_predict(X)\n",
    "    return cluster_labels\n",
    "\n",
    "kmeans_labels = apply_kmeans(X_sample, n_clusters=7)"
   ]
  },
  {
   "cell_type": "code",
   "execution_count": 9,
   "id": "ee3d099d",
   "metadata": {},
   "outputs": [],
   "source": [
    "from sklearn.metrics import adjusted_rand_score, normalized_mutual_info_score, fowlkes_mallows_score, v_measure_score\n",
    "from sklearn.metrics import silhouette_score, calinski_harabasz_score, davies_bouldin_score\n",
    "import numpy as np\n",
    "from collections import Counter\n",
    "\n",
    "def purity_score(y_true, y_pred):\n",
    "    cluster_labels = np.unique(y_pred)\n",
    "    total_correct = 0\n",
    "    for cluster in cluster_labels:\n",
    "        idx = np.where(y_pred == cluster)\n",
    "        true_labels, counts = np.unique(y_true[idx], return_counts=True)\n",
    "        total_correct += np.max(counts)\n",
    "    return total_correct / len(y_true)\n",
    "\n",
    "from scipy.spatial.distance import cdist\n",
    "import numpy as np\n",
    "\n",
    "def dunn_index(X, labels):\n",
    "    clusters = np.unique(labels)\n",
    "    cluster_data = [X[labels == c] for c in clusters]\n",
    "    \n",
    "    # 簇内最大距离（直径）\n",
    "    intra_dists = [np.max(cdist(c, c)) for c in cluster_data if len(c) > 1]\n",
    "    max_intra = max(intra_dists) if intra_dists else 1e-10\n",
    "    \n",
    "    # 簇间最小距离\n",
    "    min_inter = np.inf\n",
    "    for i in range(len(cluster_data)):\n",
    "        for j in range(i + 1, len(cluster_data)):\n",
    "            dist = np.min(cdist(cluster_data[i], cluster_data[j]))\n",
    "            min_inter = min(min_inter, dist)\n",
    "    \n",
    "    return min_inter / max_intra\n",
    "\n",
    "\n",
    "def evaluate_clustering(X, y_true, y_pred):\n",
    "    print(\"📊 外部指标：\")\n",
    "    print(f\"  ARI  (Adjusted Rand Index):     {adjusted_rand_score(y_true, y_pred):.4f}\")\n",
    "    print(f\"  NMI  (Normalized Mutual Info):  {normalized_mutual_info_score(y_true, y_pred):.4f}\")\n",
    "    print(f\"  FMI  (Fowlkes-Mallows Index):   {fowlkes_mallows_score(y_true, y_pred):.4f}\")\n",
    "    print(f\"  V-measure:                     {v_measure_score(y_true, y_pred):.4f}\")\n",
    "    print(f\"  Purity:                        {purity_score(y_true, y_pred):.4f}\")\n",
    "    \n",
    "    print(\"\\n📈 内部指标：\")\n",
    "    print(f\"  Silhouette Score:               {silhouette_score(X, y_pred):.4f}\")\n",
    "    print(f\"  Calinski-Harabasz Index:        {calinski_harabasz_score(X, y_pred):.2f}\")\n",
    "    print(f\"  Davies-Bouldin Index:           {davies_bouldin_score(X, y_pred):.4f}\")\n",
    "    print(f\"  Dunn Index:                     {dunn_index(X, y_pred):.4f}\")\n"
   ]
  },
  {
   "cell_type": "code",
   "execution_count": 10,
   "id": "c91d9d62",
   "metadata": {},
   "outputs": [
    {
     "name": "stdout",
     "output_type": "stream",
     "text": [
      "🔵 K-Means 聚类评估结果：\n",
      "📊 外部指标：\n",
      "  ARI  (Adjusted Rand Index):     0.6633\n",
      "  NMI  (Normalized Mutual Info):  0.7095\n",
      "  FMI  (Fowlkes-Mallows Index):   0.7234\n",
      "  V-measure:                     0.7095\n",
      "  Purity:                        0.7954\n",
      "\n",
      "📈 内部指标：\n",
      "  Silhouette Score:               0.3089\n",
      "  Calinski-Harabasz Index:        6219.84\n",
      "  Davies-Bouldin Index:           1.1016\n",
      "  Dunn Index:                     0.0080\n"
     ]
    }
   ],
   "source": [
    "y_true = np.argmax(y_sample, axis=1)\n",
    "\n",
    "# 评估 K-Means\n",
    "print(\"🔵 K-Means 聚类评估结果：\")\n",
    "evaluate_clustering(X_sample, y_true, kmeans_labels)\n"
   ]
  },
  {
   "cell_type": "code",
   "execution_count": 5,
   "id": "a043ca3b",
   "metadata": {},
   "outputs": [],
   "source": [
    "from sklearn.cluster import AgglomerativeClustering\n",
    "\n",
    "def apply_hierarchical_clustering(X, n_clusters=10):\n",
    "    print(\"应用 Hierarchical Clustering...\")\n",
    "    hierarchical = AgglomerativeClustering(n_clusters=n_clusters)\n",
    "    cluster_labels = hierarchical.fit_predict(X)\n",
    "    return cluster_labels\n"
   ]
  },
  {
   "cell_type": "code",
   "execution_count": 11,
   "id": "b67424eb",
   "metadata": {},
   "outputs": [
    {
     "name": "stdout",
     "output_type": "stream",
     "text": [
      "🔵 层次聚类评估结果：\n",
      "应用 Hierarchical Clustering...\n",
      "📊 外部指标：\n",
      "  ARI  (Adjusted Rand Index):     0.6490\n",
      "  NMI  (Normalized Mutual Info):  0.6963\n",
      "  FMI  (Fowlkes-Mallows Index):   0.7118\n",
      "  V-measure:                     0.6963\n",
      "  Purity:                        0.8090\n",
      "\n",
      "📈 内部指标：\n",
      "  Silhouette Score:               0.2622\n",
      "  Calinski-Harabasz Index:        5562.26\n",
      "  Davies-Bouldin Index:           1.2477\n",
      "  Dunn Index:                     0.0124\n"
     ]
    }
   ],
   "source": [
    "y_true = np.argmax(y_sample, axis=1)\n",
    "\n",
    "print(\"🔵 层次聚类评估结果：\")\n",
    "hierarchical_labels = apply_hierarchical_clustering(X_sample, n_clusters=7)\n",
    "evaluate_clustering(X_sample, y_true, hierarchical_labels)"
   ]
  }
 ],
 "metadata": {
  "kernelspec": {
   "display_name": "base",
   "language": "python",
   "name": "python3"
  },
  "language_info": {
   "codemirror_mode": {
    "name": "ipython",
    "version": 3
   },
   "file_extension": ".py",
   "mimetype": "text/x-python",
   "name": "python",
   "nbconvert_exporter": "python",
   "pygments_lexer": "ipython3",
   "version": "3.11.7"
  }
 },
 "nbformat": 4,
 "nbformat_minor": 5
}
